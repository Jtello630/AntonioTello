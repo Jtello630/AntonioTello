{
  "nbformat": 4,
  "nbformat_minor": 0,
  "metadata": {
    "colab": {
      "provenance": []
    },
    "kernelspec": {
      "name": "python3",
      "display_name": "Python 3"
    },
    "language_info": {
      "name": "python"
    }
  },
  "cells": [
    {
      "cell_type": "code",
      "execution_count": 1,
      "metadata": {
        "colab": {
          "base_uri": "https://localhost:8080/"
        },
        "id": "Gb9VaCk7z-Hr",
        "outputId": "89776f05-ba6f-42e2-ed62-3e4c22cdf93c"
      },
      "outputs": [
        {
          "output_type": "stream",
          "name": "stdout",
          "text": [
            "Dame el valor del cual quieres la raíz: 2\n",
            "Da una aproximación: 1\n",
            "La raíz aproximada de  2.0 es 1.4142135623730949234 \n",
            "La raíz con math de 2.0 es 1.4142135623730951455\n",
            "La suceción es:  [1.5, 1.4166666666666665, 1.4142156862745097, 1.4142135623746899, 1.414213562373095, 1.414213562373095]\n"
          ]
        }
      ],
      "source": [
        "import math\n",
        "\n",
        "n = float(input(\"Dame el valor del cual quieres la raíz: \"))\n",
        "aprox = float(input(\"Da una aproximación: \"))\n",
        "\n",
        "sucRaiz= []\n",
        "\n",
        "for i in range(6):\n",
        "    aprox = (1/2)*(aprox +  n/aprox)\n",
        "    sucRaiz.append(aprox)\n",
        "\n",
        "print(\"La raíz aproximada de  {0} es {1:.20} \".format(n,aprox))\n",
        "print(\"La raíz con math de {0} es {1:.20}\".format(n,math.sqrt(n)))\n",
        "print(\"La suceción es: \", sucRaiz)"
      ]
    },
    {
      "cell_type": "markdown",
      "source": [
        "# Actividad\n",
        "\n",
        "Ver con cuantas iteraciones y con cuantas cifras se aproxima correctamente para:\n",
        "\n",
        "raíz de 11 con aproximación 3\n",
        "\n",
        "raíz de 2 con aproximación 1\n",
        "\n",
        "raíz de 231\n",
        "\n",
        "poniendo el parámetro de formato del número a 49 cifras decimales."
      ],
      "metadata": {
        "id": "P6A-T9sL0Xsq"
      }
    },
    {
      "cell_type": "markdown",
      "source": [
        "# Respuestas Actividad\n",
        "\n",
        "En el caso de raíz de 2 con aproximación 1 son 5 iteraciones y es correcto hasta la cifra decimal 14"
      ],
      "metadata": {
        "id": "JtK1J7hI1Lkh"
      }
    },
    {
      "cell_type": "code",
      "source": [
        "import math\n",
        "\n",
        "n = float(input(\"Dame el valor del cual quieres la raíz: \"))\n",
        "aprox = float(input(\"Da una aproximación: \"))\n",
        "\n",
        "sucRaiz= []\n",
        "\n",
        "for i in range(6):\n",
        "    aprox = (1/2)*(aprox +  n/aprox)\n",
        "    sucRaiz.append(aprox)\n",
        "\n",
        "print(\"La raíz aproximada de  {0} es {1:.20} \".format(n,aprox))\n",
        "print(\"La raíz con math de {0} es {1:.20}\".format(n,math.sqrt(n)))\n",
        "print(\"La suceción es: \", sucRaiz)"
      ],
      "metadata": {
        "colab": {
          "base_uri": "https://localhost:8080/"
        },
        "id": "BwUJHWsZ0fRW",
        "outputId": "60dde54f-0bdd-47ff-81b5-af91ba96a233"
      },
      "execution_count": 2,
      "outputs": [
        {
          "output_type": "stream",
          "name": "stdout",
          "text": [
            "Dame el valor del cual quieres la raíz: 11\n",
            "Da una aproximación: 3\n",
            "La raíz aproximada de  11.0 es 3.31662479035539981 \n",
            "La raíz con math de 11.0 es 3.31662479035539981\n",
            "La suceción es:  [3.333333333333333, 3.3166666666666664, 3.3166247906197652, 3.3166247903554, 3.3166247903554, 3.3166247903554]\n"
          ]
        }
      ]
    },
    {
      "cell_type": "markdown",
      "source": [
        "# Respuesta Actividad\n",
        "\n",
        "\n",
        "En el caso de raíz de 11 con aproximación 3 son 5 iteraciones y es correcto en todas las cifras decimales que se muestran"
      ],
      "metadata": {
        "id": "m1dFcQyB2G4K"
      }
    },
    {
      "cell_type": "code",
      "source": [
        "import math\n",
        "\n",
        "n = float(input(\"Dame el valor del cual quieres la raíz: \"))\n",
        "aprox = float(input(\"Da una aproximación: \"))\n",
        "\n",
        "sucRaiz= []\n",
        "\n",
        "for i in range(6):\n",
        "    aprox = (1/2)*(aprox +  n/aprox)\n",
        "    sucRaiz.append(aprox)\n",
        "\n",
        "print(\"La raíz aproximada de  {0} es {1:.20} \".format(n,aprox))\n",
        "print(\"La raíz con math de {0} es {1:.20}\".format(n,math.sqrt(n)))\n",
        "print(\"La suceción es: \", sucRaiz)"
      ],
      "metadata": {
        "colab": {
          "base_uri": "https://localhost:8080/"
        },
        "id": "kbYbSH5a2SQP",
        "outputId": "80d593f9-7e9e-447d-9f42-e0dc9965d762"
      },
      "execution_count": 3,
      "outputs": [
        {
          "output_type": "stream",
          "name": "stdout",
          "text": [
            "Dame el valor del cual quieres la raíz: 231\n",
            "Da una aproximación: 1\n",
            "La raíz aproximada de  231.0 es 15.205292693189299769 \n",
            "La raíz con math de 231.0 es 15.198684153570663824\n",
            "La suceción es:  [116.0, 58.99568965517241, 31.455614974440888, 19.399647954935, 15.653540264912728, 15.2052926931893]\n"
          ]
        }
      ]
    },
    {
      "cell_type": "markdown",
      "source": [
        "En el caso de raíz de 231 con aproximación 1 son 6 iteraciones y es correcto en decimas"
      ],
      "metadata": {
        "id": "FNm54H3R21In"
      }
    },
    {
      "cell_type": "code",
      "source": [
        "import math\n",
        "\n",
        "n = float(input(\"Dame el valor del cual quieres la raíz: \"))\n",
        "aprox = float(input(\"Da una aproximación: \"))\n",
        "\n",
        "sucRaiz= []\n",
        "\n",
        "for i in range(6):\n",
        "    aprox = (1/2)*(aprox +  n/aprox)\n",
        "    sucRaiz.append(aprox)\n",
        "\n",
        "print(\"La raíz aproximada de  {0} es {1:.49} \".format(n,aprox))\n",
        "print(\"La raíz con math de {0} es {1:.49}\".format(n,math.sqrt(n)))\n",
        "print(\"La suceción es: \", sucRaiz)"
      ],
      "metadata": {
        "colab": {
          "base_uri": "https://localhost:8080/"
        },
        "id": "xtZuGipo3B2A",
        "outputId": "fca200be-646a-4ecf-deeb-f157681682dd"
      },
      "execution_count": 4,
      "outputs": [
        {
          "output_type": "stream",
          "name": "stdout",
          "text": [
            "Dame el valor del cual quieres la raíz: 2\n",
            "Da una aproximación: 1\n",
            "La raíz aproximada de  2.0 es 1.414213562373094923430016933707520365715026855469 \n",
            "La raíz con math de 2.0 es 1.414213562373095145474621858738828450441360473633\n",
            "La suceción es:  [1.5, 1.4166666666666665, 1.4142156862745097, 1.4142135623746899, 1.414213562373095, 1.414213562373095]\n"
          ]
        }
      ]
    }
  ]
}