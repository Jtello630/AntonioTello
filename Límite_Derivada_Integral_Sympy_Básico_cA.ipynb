{
  "nbformat": 4,
  "nbformat_minor": 0,
  "metadata": {
    "colab": {
      "provenance": []
    },
    "kernelspec": {
      "name": "python3",
      "display_name": "Python 3"
    },
    "language_info": {
      "name": "python"
    }
  },
  "cells": [
    {
      "cell_type": "code",
      "execution_count": null,
      "metadata": {
        "id": "_GzZM1kobqV5"
      },
      "outputs": [],
      "source": []
    },
    {
      "cell_type": "markdown",
      "source": [
        "# Límites"
      ],
      "metadata": {
        "id": "2mN8IYx0bsYQ"
      }
    },
    {
      "cell_type": "code",
      "source": [
        "from sympy import symbols, limit, sin\n",
        "x = symbols('x')\n",
        "limit(sin(x)/x, x, 4)"
      ],
      "metadata": {
        "colab": {
          "base_uri": "https://localhost:8080/",
          "height": 53
        },
        "id": "fqt9A1whbu6-",
        "outputId": "3a960feb-1af6-4400-b5e6-9b3ff3800438"
      },
      "execution_count": null,
      "outputs": [
        {
          "output_type": "execute_result",
          "data": {
            "text/plain": [
              "sin(4)/4"
            ],
            "text/latex": "$\\displaystyle \\frac{\\sin{\\left(4 \\right)}}{4}$"
          },
          "metadata": {},
          "execution_count": 1
        }
      ]
    },
    {
      "cell_type": "code",
      "source": [
        "import math\n",
        "from sympy import symbols, limit, sin\n",
        "x = symbols('x')\n",
        "limit((1-2*sin(x))/(math.pi-6*x), x, math.pi/6)"
      ],
      "metadata": {
        "colab": {
          "base_uri": "https://localhost:8080/",
          "height": 37
        },
        "id": "KCEnQuExcQQr",
        "outputId": "5fedd78e-25b2-4ee3-950b-28f4536427ed"
      },
      "execution_count": null,
      "outputs": [
        {
          "output_type": "execute_result",
          "data": {
            "text/plain": [
              "-0.0357142857142857"
            ],
            "text/latex": "$\\displaystyle -0.0357142857142857$"
          },
          "metadata": {},
          "execution_count": 2
        }
      ]
    },
    {
      "cell_type": "code",
      "source": [
        "from sympy import symbols, limit, sin\n",
        "x  = symbols('x')\n",
        "limf = limit(sin(x)/x, x, 4)\n",
        "print(\"El límite es: \", limf)\n",
        "###\n",
        "print(\"El límite evaluado es: \", limf.evalf())"
      ],
      "metadata": {
        "colab": {
          "base_uri": "https://localhost:8080/"
        },
        "id": "_-Q1vkijcTut",
        "outputId": "4fd0c092-52b7-4323-95f6-935df1637ce9"
      },
      "execution_count": null,
      "outputs": [
        {
          "output_type": "stream",
          "name": "stdout",
          "text": [
            "El límite es:  sin(4)/4\n",
            "El límite evaluado es:  -0.189200623826982\n"
          ]
        }
      ]
    },
    {
      "cell_type": "code",
      "source": [
        "from sympy import symbols, limit, sqrt\n",
        "x  = symbols('x')\n",
        "fx = sqrt(x - 1)\n",
        "limf = limit(fx, x, 1, '+')\n",
        "print(\"El límite es: \", limf)"
      ],
      "metadata": {
        "colab": {
          "base_uri": "https://localhost:8080/"
        },
        "id": "-orD2L1ucf1A",
        "outputId": "592dd37e-7936-48e6-e690-3e3f789a7938"
      },
      "execution_count": null,
      "outputs": [
        {
          "output_type": "stream",
          "name": "stdout",
          "text": [
            "El límite es:  0\n"
          ]
        }
      ]
    },
    {
      "cell_type": "markdown",
      "source": [
        "# Actividad\n",
        "\n",
        "Problema Interprepas Matemáticas VI área 2\n",
        "\n",
        "Encuentre el límite de"
      ],
      "metadata": {
        "id": "7FZ2_9Usch70"
      }
    },
    {
      "cell_type": "code",
      "source": [
        "from sympy import symbols, limit, sqrt\n",
        "x  = symbols('x')\n",
        "\n",
        "fx = ((x**2)-4)/(sqrt(x+7)-(3/2)*sqrt(x+2))\n",
        "\n",
        "limf = limit(fx, x, 2)\n",
        "print(\"El límite es: \", limf)"
      ],
      "metadata": {
        "colab": {
          "base_uri": "https://localhost:8080/"
        },
        "id": "RgSXB4TIcxo2",
        "outputId": "bd0985ac-c095-4f2c-c6b8-2db0f5219691"
      },
      "execution_count": null,
      "outputs": [
        {
          "output_type": "stream",
          "name": "stdout",
          "text": [
            "El límite es:  -96/5\n"
          ]
        }
      ]
    },
    {
      "cell_type": "markdown",
      "source": [
        "# Derivada"
      ],
      "metadata": {
        "id": "EE_x6HSWd5GC"
      }
    },
    {
      "cell_type": "code",
      "source": [
        "from sympy import symbols, diff, sin\n",
        "x  = symbols('x')\n",
        "dx = diff(sin(x)/x, x)\n",
        "print(\"La derivada es: \", dx)\n",
        "dxEval = dx.subs(x, 4).evalf()\n",
        "print(\"La derivada evaluada en x = 4 es: \", dxEval)"
      ],
      "metadata": {
        "colab": {
          "base_uri": "https://localhost:8080/"
        },
        "id": "ENrMETrPd8Ga",
        "outputId": "376d83a8-ca63-48d8-a808-fe3d554ccadd"
      },
      "execution_count": null,
      "outputs": [
        {
          "output_type": "stream",
          "name": "stdout",
          "text": [
            "La derivada es:  cos(x)/x - sin(x)/x**2\n",
            "La derivada evaluada en x = 4 es:  -0.116110749259157\n"
          ]
        }
      ]
    },
    {
      "cell_type": "markdown",
      "source": [
        "Problema Interpreparatoriano Matemáticsa VI área 1"
      ],
      "metadata": {
        "id": "PJbhPdcneVaL"
      }
    },
    {
      "cell_type": "code",
      "source": [
        "from sympy import symbols, diff, sin, exp, ln #El que se capturo en la clase\n",
        "x = symbols('x')\n",
        "fx = ln((4**(7*x**2)))/(5*exp(3*x**5))\n",
        "diff(fx, x)"
      ],
      "metadata": {
        "colab": {
          "base_uri": "https://localhost:8080/",
          "height": 57
        },
        "id": "GeD-qucyeWLx",
        "outputId": "24e1a30f-8f4a-4bd5-901c-7c006b8c180f"
      },
      "execution_count": null,
      "outputs": [
        {
          "output_type": "execute_result",
          "data": {
            "text/plain": [
              "-3*x**4*exp(-3*x**5)*log(4**(7*x**2)) + 14*x*exp(-3*x**5)*log(4)/5"
            ],
            "text/latex": "$\\displaystyle - 3 x^{4} e^{- 3 x^{5}} \\log{\\left(4^{7 x^{2}} \\right)} + \\frac{14 x e^{- 3 x^{5}} \\log{\\left(4 \\right)}}{5}$"
          },
          "metadata": {},
          "execution_count": 7
        }
      ]
    },
    {
      "cell_type": "code",
      "source": [
        "from sympy import symbols, diff, exp, ln #El que viene en el acrchivo cA\n",
        "\n",
        "x  = symbols('x')\n",
        "fx = ln(4**(7*x**2)/(5*exp(3*x**5)))\n",
        "dx = diff(fx, x)\n",
        "print(\"La derivada es: \\n {0}  \\n= {1} \".format(dx, dx.simplify()))\n",
        "#Evaluando en el puntos críticos\n",
        "#print(\n",
        "puntoEvaluacion = 0\n",
        "dxEval = dx.subs(x, puntoEvaluacion).evalf()\n",
        "print(\"La derivada evaluada en x = {0} es: {1}\".format(puntoEvaluacion, dxEval))\n",
        "puntoEvaluacion = 1.08967\n",
        "dxEval = dx.subs(x, puntoEvaluacion).evalf()\n",
        "print(\"La derivada evaluada en x = {0} es: {1}\".format(puntoEvaluacion, dxEval))\n"
      ],
      "metadata": {
        "colab": {
          "base_uri": "https://localhost:8080/"
        },
        "id": "l1bg_RMbepqW",
        "outputId": "bbfaf143-ef03-4f2a-8f9f-5a2cf1020838"
      },
      "execution_count": null,
      "outputs": [
        {
          "output_type": "stream",
          "name": "stdout",
          "text": [
            "La derivada es: \n",
            " 5*(-3*4**(7*x**2)*x**4*exp(-3*x**5) + 14*4**(7*x**2)*x*exp(-3*x**5)*log(4)/5)*exp(3*x**5)/4**(7*x**2)  \n",
            "= -15*x**4 + 28*x*log(2) \n",
            "La derivada evaluada en x = 0 es: 0\n",
            "La derivada evaluada en x = 1.08967 es: 0.000353052723166182\n"
          ]
        }
      ]
    },
    {
      "cell_type": "markdown",
      "source": [
        "# Actividad\n",
        "\n",
        "Problema Interprepas Matemáticas VI área 1\n",
        "\n",
        "Encuentre la derviada de"
      ],
      "metadata": {
        "id": "cWouZ48DhXBN"
      }
    },
    {
      "cell_type": "code",
      "source": [
        "from sympy import symbols, diff, sin, tan, exp, sqrt #Interpretación 1\n",
        "x = symbols('x')\n",
        "fx = tan(((exp(2*sin(x)))/(4*x))**sqrt(x))\n",
        "diff(fx, x)"
      ],
      "metadata": {
        "colab": {
          "base_uri": "https://localhost:8080/",
          "height": 80
        },
        "id": "J8NLkZe8hmpm",
        "outputId": "f0ac8404-dabc-45e2-87fd-a2514f03e9ee"
      },
      "execution_count": null,
      "outputs": [
        {
          "output_type": "execute_result",
          "data": {
            "text/plain": [
              "(exp(2*sin(x))/(4*x))**(sqrt(x))*(4*x**(3/2)*(exp(2*sin(x))*cos(x)/(2*x) - exp(2*sin(x))/(4*x**2))*exp(-2*sin(x)) + log(exp(2*sin(x))/(4*x))/(2*sqrt(x)))*(tan((exp(2*sin(x))/(4*x))**(sqrt(x)))**2 + 1)"
            ],
            "text/latex": "$\\displaystyle \\left(\\frac{e^{2 \\sin{\\left(x \\right)}}}{4 x}\\right)^{\\sqrt{x}} \\left(4 x^{\\frac{3}{2}} \\left(\\frac{e^{2 \\sin{\\left(x \\right)}} \\cos{\\left(x \\right)}}{2 x} - \\frac{e^{2 \\sin{\\left(x \\right)}}}{4 x^{2}}\\right) e^{- 2 \\sin{\\left(x \\right)}} + \\frac{\\log{\\left(\\frac{e^{2 \\sin{\\left(x \\right)}}}{4 x} \\right)}}{2 \\sqrt{x}}\\right) \\left(\\tan^{2}{\\left(\\left(\\frac{e^{2 \\sin{\\left(x \\right)}}}{4 x}\\right)^{\\sqrt{x}} \\right)} + 1\\right)$"
          },
          "metadata": {},
          "execution_count": 21
        }
      ]
    },
    {
      "cell_type": "code",
      "source": [
        "from sympy import symbols, diff, sin, tan, exp, sqrt #Interpretación 2\n",
        "x = symbols('x')\n",
        "fx = (tan((exp(2*sin(x)))/(4*x)))**sqrt(x)\n",
        "diff(fx, x)"
      ],
      "metadata": {
        "colab": {
          "base_uri": "https://localhost:8080/",
          "height": 83
        },
        "id": "UEbfejp9jA83",
        "outputId": "9ce28ba8-9f9c-488f-c090-dde25298c8ed"
      },
      "execution_count": null,
      "outputs": [
        {
          "output_type": "execute_result",
          "data": {
            "text/plain": [
              "(sqrt(x)*(exp(2*sin(x))*cos(x)/(2*x) - exp(2*sin(x))/(4*x**2))*(tan(exp(2*sin(x))/(4*x))**2 + 1)/tan(exp(2*sin(x))/(4*x)) + log(tan(exp(2*sin(x))/(4*x)))/(2*sqrt(x)))*tan(exp(2*sin(x))/(4*x))**(sqrt(x))"
            ],
            "text/latex": "$\\displaystyle \\left(\\frac{\\sqrt{x} \\left(\\frac{e^{2 \\sin{\\left(x \\right)}} \\cos{\\left(x \\right)}}{2 x} - \\frac{e^{2 \\sin{\\left(x \\right)}}}{4 x^{2}}\\right) \\left(\\tan^{2}{\\left(\\frac{e^{2 \\sin{\\left(x \\right)}}}{4 x} \\right)} + 1\\right)}{\\tan{\\left(\\frac{e^{2 \\sin{\\left(x \\right)}}}{4 x} \\right)}} + \\frac{\\log{\\left(\\tan{\\left(\\frac{e^{2 \\sin{\\left(x \\right)}}}{4 x} \\right)} \\right)}}{2 \\sqrt{x}}\\right) \\tan^{\\sqrt{x}}{\\left(\\frac{e^{2 \\sin{\\left(x \\right)}}}{4 x} \\right)}$"
          },
          "metadata": {},
          "execution_count": 22
        }
      ]
    },
    {
      "cell_type": "markdown",
      "source": [
        "# Integrales"
      ],
      "metadata": {
        "id": "Q37kVxXojOPA"
      }
    },
    {
      "cell_type": "markdown",
      "source": [
        "Usando la función Integral"
      ],
      "metadata": {
        "id": "1kdS_OP_jWkq"
      }
    },
    {
      "cell_type": "code",
      "source": [
        "from sympy import symbols, Integral, sin\n",
        "\n",
        "x  = symbols('x')\n",
        "intsen = Integral(sin(x), (x,-1,1))\n",
        "print(\"El resultado es: \", intsen.evalf())"
      ],
      "metadata": {
        "colab": {
          "base_uri": "https://localhost:8080/"
        },
        "id": "qGLw6TJmjQ5F",
        "outputId": "7321bc1e-18a4-43fc-f781-73c36ae2c7ea"
      },
      "execution_count": null,
      "outputs": [
        {
          "output_type": "stream",
          "name": "stdout",
          "text": [
            "El resultado es:  0.e-100\n"
          ]
        }
      ]
    },
    {
      "cell_type": "markdown",
      "source": [
        "Usando la función Integrate"
      ],
      "metadata": {
        "id": "J00sOdWTjjgY"
      }
    },
    {
      "cell_type": "code",
      "source": [
        "from sympy import symbols, integrate, exp, oo\n",
        "\n",
        "x  = symbols('x')\n",
        "print(integrate(exp(-x), (x, 0, oo)))"
      ],
      "metadata": {
        "colab": {
          "base_uri": "https://localhost:8080/"
        },
        "id": "9pRN0a4hjmog",
        "outputId": "68c3ac04-12db-4105-f05b-d340384230e3"
      },
      "execution_count": null,
      "outputs": [
        {
          "output_type": "stream",
          "name": "stdout",
          "text": [
            "1\n"
          ]
        }
      ]
    },
    {
      "cell_type": "code",
      "source": [
        "from sympy import symbols, diff, sin, exp, ln, integrate\n",
        "x = symbols('x')\n",
        "integrate(ln((4**(7*x**2)))/(5*exp(3*x**5)), x)"
      ],
      "metadata": {
        "colab": {
          "base_uri": "https://localhost:8080/",
          "height": 66
        },
        "id": "Pv4Y6tPLjxYZ",
        "outputId": "99051eb5-6636-4c9b-cf0d-7d7a8796a987"
      },
      "execution_count": null,
      "outputs": [
        {
          "output_type": "execute_result",
          "data": {
            "text/plain": [
              "Integral(exp(-3*x**5)*log(4**(7*x**2)), x)/5"
            ],
            "text/latex": "$\\displaystyle \\frac{\\int e^{- 3 x^{5}} \\log{\\left(4^{7 x^{2}} \\right)}\\, dx}{5}$"
          },
          "metadata": {},
          "execution_count": 25
        }
      ]
    },
    {
      "cell_type": "code",
      "source": [
        "from sympy import symbols, sin, exp, integrate\n",
        "x = symbols('x')\n",
        "integrate(sin(x), x)\n",
        "integrate(sin(x), x, (x, 0, 1)) #Definida de 0 a 1"
      ],
      "metadata": {
        "colab": {
          "base_uri": "https://localhost:8080/",
          "height": 37
        },
        "id": "yOAYI7JykBg7",
        "outputId": "b13e5a10-3814-4251-8081-59b57ca7acb9"
      },
      "execution_count": null,
      "outputs": [
        {
          "output_type": "execute_result",
          "data": {
            "text/plain": [
              "-sin(1)"
            ],
            "text/latex": "$\\displaystyle - \\sin{\\left(1 \\right)}$"
          },
          "metadata": {},
          "execution_count": 26
        }
      ]
    },
    {
      "cell_type": "code",
      "source": [
        "from sympy import symbols, integrate, sqrt\n",
        "x = symbols('x')\n",
        "fx=(1-x)/(sqrt(2-x))\n",
        "integrate(fx, x)\n"
      ],
      "metadata": {
        "colab": {
          "base_uri": "https://localhost:8080/",
          "height": 69
        },
        "id": "xRNUfR87kGsc",
        "outputId": "72deaead-04a9-4ccc-d4a7-6d681b623894"
      },
      "execution_count": null,
      "outputs": [
        {
          "output_type": "execute_result",
          "data": {
            "text/plain": [
              "Piecewise((2*I*sqrt(x - 2)*(x - 1)/3 + 4*I*sqrt(x - 2)/3, Abs(x - 1) > 1), (2*sqrt(2 - x)*(x - 1)/3 + 4*sqrt(2 - x)/3, True))"
            ],
            "text/latex": "$\\displaystyle \\begin{cases} \\frac{2 i \\sqrt{x - 2} \\left(x - 1\\right)}{3} + \\frac{4 i \\sqrt{x - 2}}{3} & \\text{for}\\: \\left|{x - 1}\\right| > 1 \\\\\\frac{2 \\sqrt{2 - x} \\left(x - 1\\right)}{3} + \\frac{4 \\sqrt{2 - x}}{3} & \\text{otherwise} \\end{cases}$"
          },
          "metadata": {},
          "execution_count": 27
        }
      ]
    },
    {
      "cell_type": "code",
      "source": [
        "import numpy as np\n",
        "import matplotlib.pyplot as pl\n",
        "\n",
        "paso = 0.01\n",
        "p = np.arange(-1,1,paso)\n",
        "\n",
        "ft = np.sin(np.sqrt(3)*p)*np.tan(p)\n",
        "\n",
        "pl.plot(p, ft, 'r')\n",
        "pl.fill_between(p, ft, color=(1, .616, 0, .459))\n",
        "pl.title('sin[3]')\n",
        "pl.show()\n",
        "\n",
        "AreaFt = np.sum(paso*ft)\n",
        "print(\"El área bajo la curva es: \", AreaFt)"
      ],
      "metadata": {
        "colab": {
          "base_uri": "https://localhost:8080/",
          "height": 469
        },
        "id": "TsWpWd-rkLt3",
        "outputId": "a1097519-e554-49dd-8c91-395701296545"
      },
      "execution_count": null,
      "outputs": [
        {
          "output_type": "display_data",
          "data": {
            "text/plain": [
              "<Figure size 640x480 with 1 Axes>"
            ],
            "image/png": "[encoded data removed]"
          },
          "metadata": {}
        },
        {
          "output_type": "stream",
          "name": "stdout",
          "text": [
            "El área bajo la curva es:  1.0641677725214276\n"
          ]
        }
      ]
    },
    {
      "cell_type": "markdown",
      "source": [
        "# Actividad\n",
        "\n",
        "Encuentre la integral de"
      ],
      "metadata": {
        "id": "Ih247WDHkNxu"
      }
    },
    {
      "cell_type": "code",
      "source": [
        "from sympy import symbols, sqrt, integrate\n",
        "x = symbols('x')\n",
        "\n",
        "\n",
        "integrate(sqrt(1+x**3), x, (x, -1, 1))"
      ],
      "metadata": {
        "colab": {
          "base_uri": "https://localhost:8080/",
          "height": 88
        },
        "id": "0UHx2vUWkS9Z",
        "outputId": "bd492cc8-d1ef-42f9-8e9c-9bf74bd7b4eb"
      },
      "execution_count": null,
      "outputs": [
        {
          "output_type": "execute_result",
          "data": {
            "text/plain": [
              "gamma(1/3)*Integral(x*hyper((-1/2, 1/3), (4/3,), x**3*exp_polar(I*pi)), (x, -1, 1))/(3*gamma(4/3))"
            ],
            "text/latex": "$\\displaystyle \\frac{\\Gamma\\left(\\frac{1}{3}\\right) \\int\\limits_{-1}^{1} x {{}_{2}F_{1}\\left(\\begin{matrix} - \\frac{1}{2}, \\frac{1}{3} \\\\ \\frac{4}{3} \\end{matrix}\\middle| {x^{3} e^{i \\pi}} \\right)}\\, dx}{3 \\Gamma\\left(\\frac{4}{3}\\right)}$"
          },
          "metadata": {},
          "execution_count": 29
        }
      ]
    }
  ]
}