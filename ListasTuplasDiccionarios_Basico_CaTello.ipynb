{
  "nbformat": 4,
  "nbformat_minor": 0,
  "metadata": {
    "colab": {
      "provenance": []
    },
    "kernelspec": {
      "name": "python3",
      "display_name": "Python 3"
    },
    "language_info": {
      "name": "python"
    }
  },
  "cells": [
    {
      "cell_type": "markdown",
      "source": [
        "Listas[]\n",
        "\n",
        "Tamaño variable"
      ],
      "metadata": {
        "id": "aiiB3AHtWs7y"
      }
    },
    {
      "cell_type": "code",
      "execution_count": null,
      "metadata": {
        "colab": {
          "base_uri": "https://localhost:8080/"
        },
        "id": "3aT6NVj8UajB",
        "outputId": "58e31617-7895-4679-f972-0f8f49711b25"
      },
      "outputs": [
        {
          "output_type": "stream",
          "name": "stdout",
          "text": [
            "[1, 2, 3, 4, 5]\n"
          ]
        }
      ],
      "source": [
        "ejemplo1 = [1,2,3,4,5]\n",
        "print(ejemplo1)"
      ]
    },
    {
      "cell_type": "code",
      "source": [
        "ejemplo2 = [\"a\",2.34,'Algo',5,True]\n",
        "print(ejemplo2)"
      ],
      "metadata": {
        "colab": {
          "base_uri": "https://localhost:8080/"
        },
        "id": "HD1sdgaKUv7Z",
        "outputId": "e4a72235-07f4-48e9-a33e-44cb6503ba38"
      },
      "execution_count": null,
      "outputs": [
        {
          "output_type": "stream",
          "name": "stdout",
          "text": [
            "['a', 2.34, 'Algo', 5, True]\n"
          ]
        }
      ]
    },
    {
      "cell_type": "code",
      "source": [
        "a = []\n",
        "for x in range(100):\n",
        "  if x % 2 == 0:\n",
        "    a.append(x)\n",
        "print(a)"
      ],
      "metadata": {
        "colab": {
          "base_uri": "https://localhost:8080/"
        },
        "id": "0OaJSWkCU5Fj",
        "outputId": "36f59f61-09fd-44a9-b621-1090ee535635"
      },
      "execution_count": null,
      "outputs": [
        {
          "output_type": "stream",
          "name": "stdout",
          "text": [
            "[0, 2, 4, 6, 8, 10, 12, 14, 16, 18, 20, 22, 24, 26, 28, 30, 32, 34, 36, 38, 40, 42, 44, 46, 48, 50, 52, 54, 56, 58, 60, 62, 64, 66, 68, 70, 72, 74, 76, 78, 80, 82, 84, 86, 88, 90, 92, 94, 96, 98]\n"
          ]
        }
      ]
    },
    {
      "cell_type": "markdown",
      "source": [
        "Actividad:\n",
        "\n",
        "Para qué sirven las funciones\n",
        "\n",
        "index\n",
        "count\n",
        "remove\n",
        "en una lista"
      ],
      "metadata": {
        "id": "7MYB5bb1U-xO"
      }
    },
    {
      "cell_type": "markdown",
      "source": [
        "Index: Regresa la posición de un objeto en la lista empezando desde cero.\n",
        "\n",
        "Count: Regresa el número de. veces que un elemento aparece en una lista.\n",
        "\n",
        "Remove: Elimina el primer elemento en la lista cuyo valor se desea borrar. Si no hay tal elemento regresa ValueError."
      ],
      "metadata": {
        "id": "sXUtBe16VBkJ"
      }
    },
    {
      "cell_type": "code",
      "source": [
        "# Ejemplo\n",
        "a.remove(10)\n",
        "print(a)"
      ],
      "metadata": {
        "colab": {
          "base_uri": "https://localhost:8080/"
        },
        "id": "kbpMmgENWVR1",
        "outputId": "57b394f3-450c-4f43-b18c-0fb200ac7a7d"
      },
      "execution_count": null,
      "outputs": [
        {
          "output_type": "stream",
          "name": "stdout",
          "text": [
            "[0, 2, 4, 6, 8, 12, 14, 16, 18, 20, 22, 24, 26, 28, 30, 32, 34, 36, 38, 40, 42, 44, 46, 48, 50, 52, 54, 56, 58, 60, 62, 64, 66, 68, 70, 72, 74, 76, 78, 80, 82, 84, 86, 88, 90, 92, 94, 96, 98]\n"
          ]
        }
      ]
    },
    {
      "cell_type": "markdown",
      "source": [
        "Tuplas ()\n",
        "Tamaño fijo"
      ],
      "metadata": {
        "id": "3uBtj8HPWb3q"
      }
    },
    {
      "cell_type": "code",
      "source": [
        "ejemplo3 = (1, 2, 3, 4, 5)\n",
        "print(ejemplo3)"
      ],
      "metadata": {
        "colab": {
          "base_uri": "https://localhost:8080/"
        },
        "id": "II5CPrqDWeq6",
        "outputId": "aabb39e9-7aa1-4160-c389-76b3fb6c8c9c"
      },
      "execution_count": null,
      "outputs": [
        {
          "output_type": "stream",
          "name": "stdout",
          "text": [
            "(1, 2, 3, 4, 5)\n"
          ]
        }
      ]
    },
    {
      "cell_type": "markdown",
      "source": [
        "Defino la suma y la multiplicación de complejos"
      ],
      "metadata": {
        "id": "uShsJOlUW_Dw"
      }
    },
    {
      "cell_type": "code",
      "source": [
        "def sumaComplejos(z1, z2):\n",
        "  return (z1[0] + z2[0], z1[1] + z2[1])\n",
        "\n",
        "def multComplejos(z1, z2):\n",
        "  return (z1[0] * z2[0] - z1[1] * z2[1], z1[0] * z2[1] + z1[1] * z2[0])"
      ],
      "metadata": {
        "id": "1bIncNMCXAAL"
      },
      "execution_count": null,
      "outputs": []
    },
    {
      "cell_type": "code",
      "source": [
        "z1 = (1, 2)\n",
        "z2 = (3, 4)\n",
        "print(sumaComplejos(z1, z2))\n",
        "print(multComplejos(z1, z2))"
      ],
      "metadata": {
        "colab": {
          "base_uri": "https://localhost:8080/"
        },
        "id": "8-uvgheZXHRg",
        "outputId": "b1878828-f60f-45b2-9f78-c87eafb49f50"
      },
      "execution_count": null,
      "outputs": [
        {
          "output_type": "stream",
          "name": "stdout",
          "text": [
            "(4, 6)\n",
            "(-5, 10)\n"
          ]
        }
      ]
    },
    {
      "cell_type": "markdown",
      "source": [
        "Suma de vectores gráfica"
      ],
      "metadata": {
        "id": "59NuFwA2XQyV"
      }
    },
    {
      "cell_type": "code",
      "source": [
        "import matplotlib.pyplot as plt\n",
        "\n",
        "def sumaVectores(z1,z2):\n",
        "    return (z1[0]+z2[0],z1[1]+z2[1])\n",
        "\n",
        "z1 = (2,1)\n",
        "z2 = (3,4)\n",
        "z3 = (1,0)\n",
        "#suma = sumaComplejos(z1,z2)\n",
        "\n",
        "# Grafica la suma\n",
        "plt.quiver(0, 0, z1[0], z1[1], color='g', units='xy',scale=1)\n",
        "plt.quiver(z1[0], z1[1], z2[0], z2[1], color='b',\n",
        "           units='xy', scale=1)\n",
        "plt.quiver(0, 0, sumaVectores(z1,z2)[0], sumaVectores(z1,z2)[1], color='r',\n",
        "           units='xy',scale=1)\n",
        "plt.axis('scaled')\n",
        "plt.xlim(0, 6)\n",
        "plt.ylim(0, 6)\n",
        "plt.show()"
      ],
      "metadata": {
        "colab": {
          "base_uri": "https://localhost:8080/",
          "height": 435
        },
        "id": "vRp_v6cRXTdx",
        "outputId": "7b8a7de6-30d3-4f2d-e7f6-76c1bbe4b77a"
      },
      "execution_count": null,
      "outputs": [
        {
          "output_type": "display_data",
          "data": {
            "text/plain": [
              "<Figure size 640x480 with 1 Axes>"
            ],
            "image/png": "[encoded data removed]"
          },
          "metadata": {}
        }
      ]
    },
    {
      "cell_type": "markdown",
      "source": [
        "Actividad:\n",
        "\n",
        "Mostar que se cumple la propiedad conmutativa y asociativa con la operación suma de vectores"
      ],
      "metadata": {
        "id": "pyQFTJCSXif6"
      }
    },
    {
      "cell_type": "code",
      "source": [
        "#Propiedad conmutativa z1+z2 = z2+z1\n",
        "plt.quiver(0, 0, z2[0], z2[1], color='b', units='xy',scale=1)\n",
        "plt.quiver(z2[0], z2[1], z1[0], z1[1], color='g',\n",
        "           units='xy', scale=1)\n",
        "plt.quiver(0, 0, sumaVectores(z2,z1)[0], sumaVectores(z2,z1)[1], color='r',\n",
        "           units='xy',scale=1)\n",
        "plt.axis('scaled')\n",
        "plt.xlim(0, 6)\n",
        "plt.ylim(0, 6)\n",
        "plt.show()"
      ],
      "metadata": {
        "colab": {
          "base_uri": "https://localhost:8080/",
          "height": 435
        },
        "id": "KfX33iO2ZDKe",
        "outputId": "64736ade-aacb-4e75-d311-c8ab2447f723"
      },
      "execution_count": null,
      "outputs": [
        {
          "output_type": "display_data",
          "data": {
            "text/plain": [
              "<Figure size 640x480 with 1 Axes>"
            ],
            "image/png": "[encoded data removed]"
          },
          "metadata": {}
        }
      ]
    },
    {
      "cell_type": "code",
      "source": [
        "#Propiedad asociativa (z1+z2)+z3 = z1+(z2+z3)\n",
        "\n",
        "#Primero (z1+z2)+z3\n",
        "\n",
        "plt.quiver(0, 0, sumaVectores(z2,z1)[0], sumaVectores(z2,z1)[1], color='r',\n",
        "           units='xy',scale=1)\n",
        "plt.quiver(sumaVectores(z1,z2)[0], sumaVectores(z1,z2)[1], z3[0], z3[1], color='y',\n",
        "           units='xy',scale=1)\n",
        "plt.quiver(0, 0, sumaVectores(sumaVectores(z1,z2),z3)[0], sumaVectores(sumaVectores(z1,z2),z3)[1], color='c',\n",
        "           units='xy',scale=1)\n",
        "plt.axis('scaled')\n",
        "plt.xlim(0, 6)\n",
        "plt.ylim(0, 6)\n",
        "plt.show()"
      ],
      "metadata": {
        "colab": {
          "base_uri": "https://localhost:8080/",
          "height": 435
        },
        "id": "BMCVAaMaZ5Y9",
        "outputId": "08f95076-7bdc-48db-d55f-3bc8ab8cb3bc"
      },
      "execution_count": null,
      "outputs": [
        {
          "output_type": "display_data",
          "data": {
            "text/plain": [
              "<Figure size 640x480 with 1 Axes>"
            ],
            "image/png": "[encoded data removed]"
          },
          "metadata": {}
        }
      ]
    },
    {
      "cell_type": "code",
      "source": [
        "#Después z1+(z2+z3)\n",
        "\n",
        "plt.quiver(0, 0, z1[0], z1[1], color='g',\n",
        "           units='xy',scale=1)\n",
        "plt.quiver(z1[0], z1[1],sumaVectores(z2,z3)[0], sumaVectores(z2,z3)[1],  color='k',\n",
        "           units='xy',scale=1)\n",
        "plt.quiver(0, 0, sumaVectores(z1, sumaVectores(z2,z3))[0], sumaVectores(z1, sumaVectores(z2,z3))[1], color='c',\n",
        "           units='xy',scale=1)\n",
        "plt.axis('scaled')\n",
        "plt.xlim(0, 6)\n",
        "plt.ylim(0, 6)\n",
        "plt.show()"
      ],
      "metadata": {
        "colab": {
          "base_uri": "https://localhost:8080/",
          "height": 435
        },
        "id": "n-yO3cAcdms0",
        "outputId": "a260e679-dff9-46a2-d963-76e94e2c4caf"
      },
      "execution_count": null,
      "outputs": [
        {
          "output_type": "display_data",
          "data": {
            "text/plain": [
              "<Figure size 640x480 with 1 Axes>"
            ],
            "image/png": "[encoded data removed]"
          },
          "metadata": {}
        }
      ]
    },
    {
      "cell_type": "markdown",
      "source": [
        "Actividad:\n",
        "\n",
        "Busca alguna par de funciones que se puedan aplicar a las tuplas y pon un ejemplo de como funcionan"
      ],
      "metadata": {
        "id": "nWdjFolmf3uj"
      }
    },
    {
      "cell_type": "markdown",
      "source": [
        "Multiplicación de dos fracciones"
      ],
      "metadata": {
        "id": "ZRManXRru9I3"
      }
    },
    {
      "cell_type": "code",
      "source": [
        "def MultFracc(fracc1, fracc2):\n",
        "  return (fracc1[0]*fracc2[0], fracc1[1]*fracc2[1])\n",
        "\n",
        "fracc1 = (1, 2)\n",
        "fracc2 = (3, 4)\n",
        "print(MultFracc(fracc1, fracc2))\n",
        "\n"
      ],
      "metadata": {
        "id": "pLS2WmMKf-CJ",
        "colab": {
          "base_uri": "https://localhost:8080/"
        },
        "outputId": "e94ea177-e021-417d-b533-42d71d805ca2"
      },
      "execution_count": 1,
      "outputs": [
        {
          "output_type": "stream",
          "name": "stdout",
          "text": [
            "(3, 8)\n"
          ]
        }
      ]
    }
  ]
}